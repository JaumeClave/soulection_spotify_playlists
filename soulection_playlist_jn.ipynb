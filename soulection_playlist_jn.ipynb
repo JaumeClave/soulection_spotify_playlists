{
 "cells": [
  {
   "cell_type": "markdown",
   "metadata": {
    "collapsed": true,
    "pycharm": {
     "name": "#%% md\n"
    }
   },
   "source": [
    "# Soulection Spotify Playlists\n",
    "This Jupyter Notebook has been created to code and test a tool that automatically creates a Spotify\n",
    " playlist from a Soulection Radio show using the Soulection Radio show ID."
   ]
  },
  {
   "cell_type": "code",
   "execution_count": 1,
   "outputs": [],
   "source": [
    "# Import modules\n",
    "import pandas as pd\n",
    "import requests\n",
    "from bs4 import BeautifulSoup\n",
    "from urllib.request import Request, urlopen\n",
    "import spotipy\n",
    "import spotipy.util as util\n",
    "import base64\n",
    "import re"
   ],
   "metadata": {
    "collapsed": false,
    "pycharm": {
     "name": "#%%\n"
    }
   }
  },
  {
   "cell_type": "code",
   "execution_count": 19,
   "outputs": [],
   "source": [
    "# Function to return ids of Spotify songs\n",
    "USER_AGENT = 'User-Agent'\n",
    "MOZILLA_GENERAL_TOKEN = 'Mozilla/5.0'\n",
    "HTML_SPOTIFY_TITLE = 'spotify'\n",
    "HREF_ATTRIBUTE = 'href'\n",
    "SPLITTER = 'track/'\n",
    "\n",
    "URL = 'https://soulectiontracklists.com/episodes/'\n",
    "HEADER = {USER_AGENT:MOZILLA_GENERAL_TOKEN}\n",
    "\n",
    "SPOTIFY_HREFS_LIST = list()\n",
    "SPOTIFY_IDS_LIST = list()\n",
    "CLEANED_SPOTIFY_IDS_LIST = list()\n",
    "\n",
    "def loop_spotify_titles(spotify_id_list, spotify_title_soup):\n",
    "    \"\"\"\n",
    "\n",
    "    :param spotify_id_list:\n",
    "    :param spotify_title_soup:\n",
    "    :return:\n",
    "    \"\"\"\n",
    "    for spotify_title in spotify_title_soup:\n",
    "        spotify_id_list.append(spotify_title[HREF_ATTRIBUTE])\n",
    "\n",
    "    return spotify_id_list\n",
    "\n",
    "def loop_spotify_ids(spotify_ids_list, spotify_href_list):\n",
    "    \"\"\"\n",
    "\n",
    "    :param spotify_ids_list:\n",
    "    :param spotify_href_list:\n",
    "    :return:\n",
    "    \"\"\"\n",
    "    for spotify_song_id in spotify_href_list:\n",
    "        spotify_ids_list.append(spotify_song_id.split(SPLITTER)[1])\n",
    "\n",
    "    return spotify_ids_list\n",
    "\n",
    "\n",
    "def clean_spotify_ids(clean_spotify_ids_list, spotify_ids_list):\n",
    "    \"\"\"\n",
    "\n",
    "    :param clean_spotify_ids_list:\n",
    "    :param spotify_ids_list:\n",
    "    :return:\n",
    "    \"\"\"\n",
    "    for id in spotify_ids_list:\n",
    "        clean_spotify_ids_list.append(id[:22])\n",
    "\n",
    "    return clean_spotify_ids_list\n",
    "\n",
    "def soulection_show_spotify_song_ids(show_id):\n",
    "    \"\"\"\n",
    "\n",
    "    :param show_id:\n",
    "    :return:\n",
    "    \"\"\"\n",
    "    soulection_tracklist_url = URL + str(show_id)\n",
    "    request = Request(soulection_tracklist_url, headers=HEADER)\n",
    "    soulection_tracklist_url_response = urlopen(request)\n",
    "    soup = BeautifulSoup(soulection_tracklist_url_response)\n",
    "    spotify_title_soup = soup.find_all(title=HTML_SPOTIFY_TITLE)\n",
    "\n",
    "    spotify_href_list = loop_spotify_titles(SPOTIFY_HREFS_LIST, spotify_title_soup)\n",
    "    spotify_id_list = loop_spotify_ids(SPOTIFY_IDS_LIST, spotify_href_list)\n",
    "    clean_spotify_ids_list = clean_spotify_ids(CLEANED_SPOTIFY_IDS_LIST, spotify_id_list)\n",
    "\n",
    "    return clean_spotify_ids_list"
   ],
   "metadata": {
    "collapsed": false,
    "pycharm": {
     "name": "#%%\n"
    }
   }
  },
  {
   "cell_type": "code",
   "execution_count": 20,
   "outputs": [
    {
     "data": {
      "text/plain": "['06bjoUJjesDCfM1vjajvZQ',\n '3ppVO2tyWRRznNmONvt7Se',\n '4hGEJ3VhpJJxxEqQnz9JPS',\n '6q0K18setJn0aOVR99Us0p',\n '0ritGnnjhOz4jBiUUIJyHR',\n '4GoKFTTm5DfBhzSCd0BLMX',\n '5Xt3RUiOkiH2pGYtMTVeNS',\n '25z0QF3ANJPVM04fTbty45',\n '2Q7XXvTB9EQDEAjRvvORMF',\n '07qj9w93jk1eA2TGAd6kxj',\n '4qh6Aw7Y7G4rxtRB3SUmqs',\n '1pmVrxB7KlxsPfikuq8i0M',\n '4QJQJimv59kekwAk2umyUS',\n '1r0IUucGcijDB48bXk4Z7p',\n '1mcfqQYSMsbDzmg9AvynoC',\n '1mcfqQYSMsbDzmg9AvynoC',\n '2mTyh3nBpLJZBTb3M6nVzP',\n '01wKeKPgYxdPYA8rfMveYc',\n '39tE9pvzHERJaFJ3HviIPj',\n '1KwIHDiA7GqySNMrTH0A8f',\n '5LdrV2BHroDGfgJFEZVZki',\n '4vmpBY1GrdNcS3ugNHf3ay',\n '7gPQXKzOY7EBBheoW0xQC4',\n '7gPQXKzOY7EBBheoW0xQC4',\n '42Oij6tTNlS0zy5HfNZWva',\n '13sjXB4DOFvBe2xWoQqHxK',\n '33wUd3GgaRf2rux2aJ71yb',\n '3TiCuJiisBOB9HzKAM6FDG',\n '4YmKTCL86mpGHUS0sEWAUV',\n '515MVhJ5mWAk41VfyOrezB',\n '7aoslYDlH3JDogn6uA1kIo',\n '7l6Nxj3XhF4iUV5Fy0OxmA',\n '0IRK3U73ve4mmGGySqdNY4',\n '2hFHoGxlgYtjnsY34kTyHo',\n '5LOIteqUpPswpOEVQcB6NC',\n '4CIyRJ42G522wF7WzJqPF7',\n '0Kj9GWYI2CzSnkmjFmI1Yd',\n '2lRD5UGnUCaon5g5cHbkCC',\n '5atZtVxAlOWBAJ8Lp6Jv57',\n '5rQej0kY2KYQ9XScOFjqA8',\n '0Gcs85JHJPQCBSVqZrsyO5',\n '2FRct5UvG5ByeEaaf1gnvH',\n '7ruaHQFLq23P9xoFKR6XE3',\n '48YX95ubhgxWLicRV55w1P?si=G_ZNlLX0QvqQImMddgqeRA',\n '4UpBPaIMx7OoFpjeNdXfMn']"
     },
     "execution_count": 20,
     "metadata": {},
     "output_type": "execute_result"
    }
   ],
   "source": [
    "SOULECTION_SHOW_NUMBER = 462\n",
    "# Return ids of Spotify songs on Soulection show 481\n",
    "show_spotify_ids = soulection_show_spotify_song_ids(SOULECTION_SHOW_NUMBER)\n",
    "show_spotify_ids"
   ],
   "metadata": {
    "collapsed": false,
    "pycharm": {
     "name": "#%%\n"
    }
   }
  },
  {
   "cell_type": "code",
   "execution_count": 4,
   "outputs": [],
   "source": [
    "# Function for Spotipy authentication\n",
    "SPOTIFY_API_CREDENTIALS = pd.read_csv('spotify_api_keys.csv', header=None)\n",
    "\n",
    "SPOTIFY_USER_ID = SPOTIFY_API_CREDENTIALS[1].iloc[0]\n",
    "SPOTIFY_CLIENT_ID = SPOTIFY_API_CREDENTIALS[1].iloc[1]\n",
    "SPOTIFY_CLIENT_SECRET = SPOTIFY_API_CREDENTIALS[1].iloc[2]\n",
    "REDIRECT_URL = 'http://127.0.0.1:9090'\n",
    "\n",
    "## All scope\n",
    "SPOTIFY_AUTHORIZATION_SCOPE = 'ugc-image-upload user-read-playback-state streaming ' \\\n",
    "                              'user-read-email playlist-read-collaborative '  \\\n",
    "                              'user-modify-playback-state user-read-private  ' \\\n",
    "                              'playlist-modify-public user-library-modify user-top-read ' \\\n",
    "                              'user-read-playback-position user-read-currently-playing ' \\\n",
    "                              'playlist-read-private user-follow-read app-remote-control ' \\\n",
    "                              'user-read-recently-played user-follow-modify user-library-read'\n",
    "\n",
    "def spotify_authentication(spotify_user_id, spotify_authorization_scope, spotify_client_id,\n",
    "                           spotify_client_secret, redicrect_url):\n",
    "    \"\"\"\n",
    "\n",
    "    :param spotify_user_id:\n",
    "    :param spotify_authorization_scope:\n",
    "    :param spotify_client_id:\n",
    "    :param spotify_client_secret:\n",
    "    :param redicrect_url:\n",
    "    :return:\n",
    "    \"\"\"\n",
    "    token = util.prompt_for_user_token(\n",
    "        spotify_user_id,\n",
    "        spotify_authorization_scope,\n",
    "        client_id = spotify_client_id,\n",
    "        client_secret = spotify_client_secret,\n",
    "        redirect_uri=redicrect_url)\n",
    "\n",
    "    sp = spotipy.Spotify(auth=token)\n",
    "\n",
    "    return sp"
   ],
   "metadata": {
    "collapsed": false,
    "pycharm": {
     "name": "#%%\n"
    }
   }
  },
  {
   "cell_type": "code",
   "execution_count": 5,
   "outputs": [],
   "source": [
    "# Spotipy authentication\n",
    "sp = spotify_authentication(SPOTIFY_USER_ID, SPOTIFY_AUTHORIZATION_SCOPE, SPOTIFY_CLIENT_ID,\n",
    "                       SPOTIFY_CLIENT_SECRET, REDIRECT_URL)\n"
   ],
   "metadata": {
    "collapsed": false,
    "pycharm": {
     "name": "#%%\n"
    }
   }
  },
  {
   "cell_type": "code",
   "execution_count": 6,
   "outputs": [],
   "source": [
    "PLAYLIST_PREFFIX = 'Soulection Show'\n",
    "PLAYLIST_NAME = PLAYLIST_PREFFIX + ' ' + str(SOULECTION_SHOW_NUMBER)\n",
    "\n",
    "def create_and_add_tracks_to_playlist(spotify_song_ids, playlist_name):\n",
    "    \"\"\"\n",
    "\n",
    "    :param spotify_song_ids:\n",
    "    :param playlist_name:\n",
    "    :return:\n",
    "    \"\"\"\n",
    "    playlist = sp.user_playlist_create(SPOTIFY_USER_ID, playlist_name)\n",
    "    sp.playlist_add_items(playlist['id'], spotify_song_ids)\n",
    "\n",
    "    print(f'Spotify playlist \"{playlist_name}\" successfully created!')\n",
    "\n",
    "    return playlist['id']"
   ],
   "metadata": {
    "collapsed": false,
    "pycharm": {
     "name": "#%%\n"
    }
   }
  },
  {
   "cell_type": "code",
   "execution_count": 7,
   "outputs": [
    {
     "name": "stdout",
     "output_type": "stream",
     "text": [
      "Spotify playlist \"Soulection Show 461\" successfully created!\n"
     ]
    }
   ],
   "source": [
    "created_playlist_id = create_and_add_tracks_to_playlist(show_spotify_ids, PLAYLIST_NAME)"
   ],
   "metadata": {
    "collapsed": false,
    "pycharm": {
     "name": "#%%\n"
    }
   }
  },
  {
   "cell_type": "code",
   "execution_count": 8,
   "outputs": [],
   "source": [
    "# Deletes playlist 'Pythonically Created' using Playlist Id\n",
    "#sp.current_user_unfollow_playlist('2x3WGyPocjz53pRd0Q4vwT')"
   ],
   "metadata": {
    "collapsed": false,
    "pycharm": {
     "name": "#%%\n"
    }
   }
  },
  {
   "cell_type": "markdown",
   "source": [
    "## Download Show Art and Upload as Spotify Cover Art"
   ],
   "metadata": {
    "collapsed": false,
    "pycharm": {
     "name": "#%% md\n"
    }
   }
  },
  {
   "cell_type": "code",
   "execution_count": 6,
   "outputs": [],
   "source": [
    "ALT_TAG = 'Show #'\n",
    "SRCSET_ATTRIBUTE = 'srcset'\n",
    "SPLIT_BY_COMMA = ','\n",
    "SPLIT_BY_SPACE = ' '\n",
    "INDEX_2 = 2\n",
    "INDEX_1 = 1\n",
    "INDEX_0 = 0\n",
    "REGEX_WILDCARD = '.*'\n",
    "\n",
    "# Function that returns the href of the cover art\n",
    "def soulection_show_art_cover_href(show_id, index):\n",
    "    \"\"\"\n",
    "\n",
    "    :param show_id:\n",
    "    :param index:\n",
    "    :return:\n",
    "    \"\"\"\n",
    "    soulection_tracklist_url = URL + str(show_id)\n",
    "    request = Request(soulection_tracklist_url, headers=HEADER)\n",
    "    soulection_tracklist_url_response = urlopen(request)\n",
    "    soup = BeautifulSoup(soulection_tracklist_url_response)\n",
    "    soulection_show_cover_art_soup = soup.find(alt=re.compile(ALT_TAG + str(show_id) +\n",
    "                                                              REGEX_WILDCARD))\n",
    "\n",
    "    soulection_show_cover_art_href_string = soulection_show_cover_art_soup[SRCSET_ATTRIBUTE].split \\\n",
    "        (SPLIT_BY_COMMA)[index].split(SPLIT_BY_SPACE)[INDEX_0][1:]\n",
    "\n",
    "    return soulection_show_cover_art_href_string\n",
    "\n",
    "\n",
    "IMAGE_FOLDER = r'C:\\Users\\Jaume\\Documents\\Python Projects\\soulection_playlists\\''\n",
    "JPEG_STRING = '.jpeg'\n",
    "WRITING_BINARY = 'wb'\n",
    "READ_BINARY = 'rb'\n",
    "UTF_8_ENCODING = 'utf-8'\n",
    "\n",
    "# Function that saves the cover art href to a jpeg on the local\n",
    "def save_jepg_from_href(href):\n",
    "    \"\"\"\n",
    "\n",
    "    :param href:\n",
    "    :return:\n",
    "    \"\"\"\n",
    "    file = open(IMAGE_FOLDER + PLAYLIST_NAME + JPEG_STRING, WRITING_BINARY)\n",
    "    file.write(requests.get(href).content)\n",
    "    file.close()\n",
    "\n",
    "    pass\n",
    "\n",
    "# Function that encodes the jpeg to base64 (required by Spotify)\n",
    "def get_base64_encoded_image(image_path):\n",
    "    \"\"\"\n",
    "\n",
    "    :param image_path:\n",
    "    :return:\n",
    "    \"\"\"\n",
    "    with open(image_path, READ_BINARY) as img_file:\n",
    "        return base64.b64encode(img_file.read()).decode(UTF_8_ENCODING)\n",
    "\n",
    "\n",
    "# Function that groups the entire cover art process\n",
    "def upload_spotify_playlist_cover_art(show_ids_list, index, playlist_id):\n",
    "    \"\"\"\n",
    "\n",
    "    :param show_ids_list:\n",
    "    :param index:\n",
    "    :param playlist_id:\n",
    "    :return:\n",
    "    \"\"\"\n",
    "\n",
    "    href = soulection_show_art_cover_href(show_ids_list, index)\n",
    "    save_jepg_from_href(href)\n",
    "    base64_encoded_cover_art = get_base64_encoded_image(IMAGE_FOLDER + PLAYLIST_NAME +\n",
    "                                                        JPEG_STRING)\n",
    "    sp.playlist_upload_cover_image(playlist_id, base64_encoded_cover_art)\n",
    "\n",
    "    pass"
   ],
   "metadata": {
    "collapsed": false,
    "pycharm": {
     "name": "#%%\n"
    }
   }
  },
  {
   "cell_type": "code",
   "execution_count": 10,
   "outputs": [],
   "source": [
    "# Tries to upload the crispest best quality image first and if fails it attempts a lower res.\n",
    "try:\n",
    "    upload_spotify_playlist_cover_art(SOULECTION_SHOW_NUMBER, INDEX_1, created_playlist_id)\n",
    "except:\n",
    "    upload_spotify_playlist_cover_art(SOULECTION_SHOW_NUMBER, INDEX_2, created_playlist_id)\n"
   ],
   "metadata": {
    "collapsed": false,
    "pycharm": {
     "name": "#%%\n"
    }
   }
  },
  {
   "cell_type": "code",
   "execution_count": 14,
   "outputs": [],
   "source": [
    "# Make playlist public and change description\n",
    "PLAYLIST_DESCRIPTION = f'This playlist contains songs, in order, from Soulection Radio Show ' \\\n",
    "                       f'{SOULECTION_SHOW_NUMBER}. The playlist only has songs that can be found ' \\\n",
    "                       f'on Spotify and therefore is missing \"SoundCloud gems\". You are welcome ' \\\n",
    "                       f'to share it with friends! This playlist and all of the others ' \\\n",
    "                       f'(Soulection) have been created automatically using Python.'\n",
    "sp.playlist_change_details(created_playlist_id, public=True, description=PLAYLIST_DESCRIPTION)"
   ],
   "metadata": {
    "collapsed": false,
    "pycharm": {
     "name": "#%%\n"
    }
   }
  },
  {
   "cell_type": "code",
   "execution_count": 11,
   "outputs": [
    {
     "data": {
      "text/plain": "'Soulection Show 460'"
     },
     "execution_count": 11,
     "metadata": {},
     "output_type": "execute_result"
    }
   ],
   "source": [],
   "metadata": {
    "collapsed": false,
    "pycharm": {
     "name": "#%%\n"
    }
   }
  },
  {
   "cell_type": "code",
   "execution_count": 2,
   "outputs": [],
   "source": [
    "SOULECTION_SHOW_ID = 462\n",
    "\n",
    "# Function to return ids of Spotify songs\n",
    "USER_AGENT = 'User-Agent'\n",
    "MOZILLA_GENERAL_TOKEN = 'Mozilla/5.0'\n",
    "HTML_SPOTIFY_TITLE = 'spotify'\n",
    "HREF_ATTRIBUTE = 'href'\n",
    "SPLITTER = 'track/'\n",
    "\n",
    "URL = 'https://soulectiontracklists.com/episodes/'\n",
    "HEADER = {USER_AGENT:MOZILLA_GENERAL_TOKEN}\n",
    "\n",
    "SPOTIFY_HREFS_LIST = list()\n",
    "SPOTIFY_IDS_LIST = list()\n",
    "CLEANED_SPOTIFY_IDS_LIST = list()\n",
    "\n",
    "def loop_spotify_titles(spotify_id_list, spotify_title_soup):\n",
    "    \"\"\"\n",
    "\n",
    "    :param spotify_id_list:\n",
    "    :param spotify_title_soup:\n",
    "    :return:\n",
    "    \"\"\"\n",
    "    for spotify_title in spotify_title_soup:\n",
    "        spotify_id_list.append(spotify_title[HREF_ATTRIBUTE])\n",
    "\n",
    "    return spotify_id_list\n",
    "\n",
    "def loop_spotify_ids(spotify_ids_list, spotify_href_list):\n",
    "    \"\"\"\n",
    "\n",
    "    :param spotify_ids_list:\n",
    "    :param spotify_href_list:\n",
    "    :return:\n",
    "    \"\"\"\n",
    "    for spotify_song_id in spotify_href_list:\n",
    "        spotify_ids_list.append(spotify_song_id.split(SPLITTER)[1])\n",
    "\n",
    "    return spotify_ids_list\n",
    "\n",
    "\n",
    "def clean_spotify_ids(clean_spotify_ids_list, spotify_ids_list):\n",
    "    \"\"\"\n",
    "\n",
    "    :param clean_spotify_ids_list:\n",
    "    :param spotify_ids_list:\n",
    "    :return:\n",
    "    \"\"\"\n",
    "    for id in spotify_ids_list:\n",
    "        clean_spotify_ids_list.append(id[:22])\n",
    "\n",
    "    return clean_spotify_ids_list\n",
    "\n",
    "def soulection_show_spotify_song_ids(show_id):\n",
    "    \"\"\"\n",
    "\n",
    "    :param show_id:\n",
    "    :return:\n",
    "    \"\"\"\n",
    "    soulection_tracklist_url = URL + str(show_id)\n",
    "    request = Request(soulection_tracklist_url, headers=HEADER)\n",
    "    soulection_tracklist_url_response = urlopen(request)\n",
    "    soup = BeautifulSoup(soulection_tracklist_url_response)\n",
    "    spotify_title_soup = soup.find_all(title=HTML_SPOTIFY_TITLE)\n",
    "\n",
    "    spotify_href_list = loop_spotify_titles(SPOTIFY_HREFS_LIST, spotify_title_soup)\n",
    "    spotify_id_list = loop_spotify_ids(SPOTIFY_IDS_LIST, spotify_href_list)\n",
    "    clean_spotify_ids_list = clean_spotify_ids(CLEANED_SPOTIFY_IDS_LIST, spotify_id_list)\n",
    "\n",
    "    return clean_spotify_ids_list\n",
    "\n",
    "\n",
    "# Function for Spotipy authentication\n",
    "SPOTIFY_API_CREDENTIALS = pd.read_csv(r'C:\\Users\\Jaume\\Documents\\Python '\n",
    "                                      r'Projects\\soulection_playlists\\spotify_api_keys.csv',\n",
    "                                      header=None)\n",
    "\n",
    "SPOTIFY_USER_ID = SPOTIFY_API_CREDENTIALS[1].iloc[0]\n",
    "SPOTIFY_CLIENT_ID = SPOTIFY_API_CREDENTIALS[1].iloc[1]\n",
    "SPOTIFY_CLIENT_SECRET = SPOTIFY_API_CREDENTIALS[1].iloc[2]\n",
    "REDIRECT_URL = 'http://127.0.0.1:9090'\n",
    "\n",
    "## All scope\n",
    "SPOTIFY_AUTHORIZATION_SCOPE = 'ugc-image-upload user-read-playback-state streaming ' \\\n",
    "                              'user-read-email playlist-read-collaborative '  \\\n",
    "                              'user-modify-playback-state user-read-private  ' \\\n",
    "                              'playlist-modify-public user-library-modify user-top-read ' \\\n",
    "                              'user-read-playback-position user-read-currently-playing ' \\\n",
    "                              'playlist-read-private user-follow-read app-remote-control ' \\\n",
    "                              'user-read-recently-played user-follow-modify user-library-read'\n",
    "\n",
    "def spotify_authentication(spotify_user_id, spotify_authorization_scope, spotify_client_id,\n",
    "                           spotify_client_secret, redicrect_url):\n",
    "    \"\"\"\n",
    "\n",
    "    :param spotify_user_id:\n",
    "    :param spotify_authorization_scope:\n",
    "    :param spotify_client_id:\n",
    "    :param spotify_client_secret:\n",
    "    :param redicrect_url:\n",
    "    :return:\n",
    "    \"\"\"\n",
    "    token = util.prompt_for_user_token(\n",
    "        spotify_user_id,\n",
    "        spotify_authorization_scope,\n",
    "        client_id = spotify_client_id,\n",
    "        client_secret = spotify_client_secret,\n",
    "        redirect_uri=redicrect_url)\n",
    "\n",
    "    sp = spotipy.Spotify(auth=token)\n",
    "\n",
    "    return sp\n",
    "\n",
    "\n",
    "sp = spotify_authentication(SPOTIFY_USER_ID, SPOTIFY_AUTHORIZATION_SCOPE, SPOTIFY_CLIENT_ID,\n",
    "                       SPOTIFY_CLIENT_SECRET, REDIRECT_URL)\n",
    "\n",
    "\n",
    "PLAYLIST_PREFFIX = 'Soulection Show'\n",
    "PLAYLIST_NAME = PLAYLIST_PREFFIX + ' ' + str(SOULECTION_SHOW_ID)\n",
    "\n",
    "def create_and_add_tracks_to_playlist(spotify_song_ids, playlist_name):\n",
    "    \"\"\"\n",
    "\n",
    "    :param spotify_song_ids:\n",
    "    :param playlist_name:\n",
    "    :return:\n",
    "    \"\"\"\n",
    "    playlist = sp.user_playlist_create(SPOTIFY_USER_ID, playlist_name)\n",
    "    sp.playlist_add_items(playlist['id'], spotify_song_ids)\n",
    "\n",
    "    return playlist['id']\n",
    "\n",
    "\n",
    "ALT_TAG = 'Show #'\n",
    "SRCSET_ATTRIBUTE = 'srcset'\n",
    "SPLIT_BY_COMMA = ','\n",
    "SPLIT_BY_SPACE = ' '\n",
    "INDEX_2 = 2\n",
    "INDEX_1 = 1\n",
    "INDEX_0 = 0\n",
    "REGEX_WILDCARD = '.*'\n",
    "\n",
    "# Function that returns the href of the cover art\n",
    "def soulection_show_art_cover_href(show_id, index):\n",
    "    \"\"\"\n",
    "\n",
    "    :param show_id:\n",
    "    :param index:\n",
    "    :return:\n",
    "    \"\"\"\n",
    "    soulection_tracklist_url = URL + str(show_id)\n",
    "    request = Request(soulection_tracklist_url, headers=HEADER)\n",
    "    soulection_tracklist_url_response = urlopen(request)\n",
    "    soup = BeautifulSoup(soulection_tracklist_url_response)\n",
    "    soulection_show_cover_art_soup = soup.find(alt=re.compile(ALT_TAG + str(show_id) +\n",
    "                                                              REGEX_WILDCARD))\n",
    "\n",
    "    soulection_show_cover_art_href_string = soulection_show_cover_art_soup[SRCSET_ATTRIBUTE].split \\\n",
    "        (SPLIT_BY_COMMA)[index].split(SPLIT_BY_SPACE)[INDEX_0][1:]\n",
    "\n",
    "    return soulection_show_cover_art_href_string\n",
    "\n",
    "\n",
    "IMAGE_FOLDER = r'C:\\Users\\Jaume\\Documents\\Python Projects\\soulection_playlists\\''\n",
    "JPEG_STRING = '.jpeg'\n",
    "WRITING_BINARY = 'wb'\n",
    "READ_BINARY = 'rb'\n",
    "UTF_8_ENCODING = 'utf-8'\n",
    "\n",
    "# Function that saves the cover art href to a jpeg on the local\n",
    "def save_jepg_from_href(href):\n",
    "    \"\"\"\n",
    "\n",
    "    :param href:\n",
    "    :return:\n",
    "    \"\"\"\n",
    "    file = open(IMAGE_FOLDER + PLAYLIST_NAME + JPEG_STRING, WRITING_BINARY)\n",
    "    file.write(requests.get(href).content)\n",
    "    file.close()\n",
    "\n",
    "    pass\n",
    "\n",
    "# Function that encodes the jpeg to base64 (required by Spotify)\n",
    "def get_base64_encoded_image(image_path):\n",
    "    \"\"\"\n",
    "\n",
    "    :param image_path:\n",
    "    :return:\n",
    "    \"\"\"\n",
    "    with open(image_path, READ_BINARY) as img_file:\n",
    "        return base64.b64encode(img_file.read()).decode(UTF_8_ENCODING)\n",
    "\n",
    "\n",
    "# Function that groups the entire cover art process\n",
    "def upload_spotify_playlist_cover_art(show_ids_list, index, playlist_id):\n",
    "    \"\"\"\n",
    "\n",
    "    :param show_ids_list:\n",
    "    :param index:\n",
    "    :param playlist_id:\n",
    "    :return:\n",
    "    \"\"\"\n",
    "\n",
    "    href = soulection_show_art_cover_href(show_ids_list, index)\n",
    "    save_jepg_from_href(href)\n",
    "    base64_encoded_cover_art = get_base64_encoded_image(IMAGE_FOLDER + PLAYLIST_NAME +\n",
    "                                                        JPEG_STRING)\n",
    "    sp.playlist_upload_cover_image(playlist_id, base64_encoded_cover_art)\n",
    "\n",
    "    pass\n",
    "\n",
    "\n",
    "PLAYLIST_DESCRIPTION = f'This playlist contains songs, in order, from Soulection Radio Show ' \\\n",
    "                       f'{SOULECTION_SHOW_ID}. The playlist only has songs that can be found ' \\\n",
    "                       f'on Spotify and therefore is missing \"SoundCloud gems\". You are welcome ' \\\n",
    "                       f'to share it with friends! This playlist and all of the others ' \\\n",
    "                       f'(Soulection) have been created automatically using Python.'\n",
    "\n",
    "\n",
    "def soulection_show_to_spotify_playlist(soulection_show_id):\n",
    "\n",
    "    show_spotify_ids = soulection_show_spotify_song_ids(soulection_show_id)\n",
    "    created_playlist_id = create_and_add_tracks_to_playlist(show_spotify_ids, PLAYLIST_NAME)\n",
    "\n",
    "    try:\n",
    "        upload_spotify_playlist_cover_art(soulection_show_id, INDEX_1, created_playlist_id)\n",
    "    except:\n",
    "        upload_spotify_playlist_cover_art(soulection_show_id, INDEX_2, created_playlist_id)\n",
    "\n",
    "    sp.playlist_change_details(created_playlist_id, public=True, description=PLAYLIST_DESCRIPTION)\n",
    "\n",
    "    pass\n",
    "\n",
    "soulection_show_to_spotify_playlist(SOULECTION_SHOW_ID)"
   ],
   "metadata": {
    "collapsed": false,
    "pycharm": {
     "name": "#%%\n"
    }
   }
  },
  {
   "cell_type": "code",
   "execution_count": 10,
   "outputs": [
    {
     "name": "stdout",
     "output_type": "stream",
     "text": [
      "Spotify playlist \"Soulection Show 461\" successfully created!\n"
     ]
    }
   ],
   "source": [],
   "metadata": {
    "collapsed": false,
    "pycharm": {
     "name": "#%%\n"
    }
   }
  },
  {
   "cell_type": "code",
   "execution_count": null,
   "outputs": [],
   "source": [],
   "metadata": {
    "collapsed": false,
    "pycharm": {
     "name": "#%%\n"
    }
   }
  }
 ],
 "metadata": {
  "kernelspec": {
   "display_name": "Python 3",
   "language": "python",
   "name": "python3"
  },
  "language_info": {
   "codemirror_mode": {
    "name": "ipython",
    "version": 2
   },
   "file_extension": ".py",
   "mimetype": "text/x-python",
   "name": "python",
   "nbconvert_exporter": "python",
   "pygments_lexer": "ipython2",
   "version": "2.7.6"
  }
 },
 "nbformat": 4,
 "nbformat_minor": 0
}