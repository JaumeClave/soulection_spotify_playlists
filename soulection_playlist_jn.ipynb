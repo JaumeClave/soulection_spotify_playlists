{
 "cells": [
  {
   "cell_type": "markdown",
   "metadata": {
    "collapsed": true,
    "pycharm": {
     "name": "#%% md\n"
    }
   },
   "source": [
    "# Soulection Spotify Playlists\n",
    "This Jupyter Notebook has been created to code and test a tool that automatically creates a Spotify\n",
    " playlist from a Soulection Radio show using the Soulection Radio show ID."
   ]
  },
  {
   "cell_type": "code",
   "execution_count": 1,
   "outputs": [],
   "source": [
    "# Import modules\n",
    "import pandas as pd\n",
    "from bs4 import BeautifulSoup\n",
    "from urllib.request import Request, urlopen\n",
    "import spotipy\n",
    "import spotipy.util as util"
   ],
   "metadata": {
    "collapsed": false,
    "pycharm": {
     "name": "#%%\n"
    }
   }
  },
  {
   "cell_type": "code",
   "execution_count": 2,
   "outputs": [],
   "source": [
    "# Function to return ids of Spotify songs\n",
    "USER_AGENT = 'User-Agent'\n",
    "MOZILLA_GENERAL_TOKEN = 'Mozilla/5.0'\n",
    "HTML_SPOTIFY_TITLE = 'spotify'\n",
    "HREF_ATTRIBUTE = 'href'\n",
    "SPLITTER = 'track/'\n",
    "\n",
    "URL = 'https://soulectiontracklists.com/episodes/'\n",
    "HEADER = {USER_AGENT:MOZILLA_GENERAL_TOKEN}\n",
    "\n",
    "SPOTIFY_HREFS_LIST = list()\n",
    "SPOTIFY_IDS_LIST = list()\n",
    "\n",
    "def loop_spotify_titles(spotify_id_list, spotify_title_soup):\n",
    "    \"\"\"\n",
    "\n",
    "    :param spotify_id_list:\n",
    "    :param spotify_title_soup:\n",
    "    :return:\n",
    "    \"\"\"\n",
    "    for spotify_title in spotify_title_soup:\n",
    "        spotify_id_list.append(spotify_title[HREF_ATTRIBUTE])\n",
    "\n",
    "    return spotify_id_list\n",
    "\n",
    "def loop_spotify_ids(spotify_ids_list, spotify_href_list):\n",
    "    \"\"\"\n",
    "\n",
    "    :param spotify_ids_list:\n",
    "    :param spotify_href_list:\n",
    "    :return:\n",
    "    \"\"\"\n",
    "    for spotify_song_id in spotify_href_list:\n",
    "        spotify_ids_list.append(spotify_song_id.split(SPLITTER)[1])\n",
    "\n",
    "    return spotify_ids_list\n",
    "\n",
    "\n",
    "def soulection_show_spotify_song_ids(SHOW_ID):\n",
    "    \"\"\"\n",
    "\n",
    "    :param SHOW_ID:\n",
    "    :return:\n",
    "    \"\"\"\n",
    "    soulection_tracklist_url = URL + str(SHOW_ID)\n",
    "    request = Request(soulection_tracklist_url, headers=HEADER)\n",
    "    soulection_tracklist_url_response = urlopen(request)\n",
    "    soup = BeautifulSoup(soulection_tracklist_url_response)\n",
    "    spotify_title_soup = soup.find_all(title=HTML_SPOTIFY_TITLE)\n",
    "\n",
    "    spotify_href_list = loop_spotify_titles(SPOTIFY_HREFS_LIST, spotify_title_soup)\n",
    "    spotify_id_list = loop_spotify_ids(SPOTIFY_IDS_LIST, spotify_href_list)\n",
    "\n",
    "    return spotify_id_list"
   ],
   "metadata": {
    "collapsed": false,
    "pycharm": {
     "name": "#%%\n"
    }
   }
  },
  {
   "cell_type": "code",
   "execution_count": 3,
   "outputs": [],
   "source": [
    "# Return ids of Spotify songs on Soulection show 481\n",
    "show_481_spotify_ids = soulection_show_spotify_song_ids(481)"
   ],
   "metadata": {
    "collapsed": false,
    "pycharm": {
     "name": "#%%\n"
    }
   }
  },
  {
   "cell_type": "code",
   "execution_count": 29,
   "outputs": [],
   "source": [
    "# Function for Spotipy authentication\n",
    "SPOTIFY_API_CREDENTIALS = pd.read_csv('spotify_api_keys.csv', header=None)\n",
    "\n",
    "SPOTIFY_USER_ID = SPOTIFY_API_CREDENTIALS[1].iloc[0]\n",
    "SPOTIFY_CLIENT_ID = SPOTIFY_API_CREDENTIALS[1].iloc[1]\n",
    "SPOTIFY_CLIENT_SECRET = SPOTIFY_API_CREDENTIALS[1].iloc[2]\n",
    "REDIRECT_URL = 'http://127.0.0.1:9090'\n",
    "\n",
    "## All scope\n",
    "SPOTIFY_AUTHORIZATION_SCOPE = 'ugc-image-upload user-read-playback-state streaming ' \\\n",
    "                              'user-read-email playlist-read-collaborative '  \\\n",
    "                              'user-modify-playback-state user-read-private  ' \\\n",
    "                              'playlist-modify-public user-library-modify user-top-read ' \\\n",
    "                              'user-read-playback-position user-read-currently-playing ' \\\n",
    "                              'playlist-read-private user-follow-read app-remote-control ' \\\n",
    "                              'user-read-recently-played user-follow-modify user-library-read'\n",
    "\n",
    "def spotify_authentication(spotify_user_id, spotify_authorization_scope, spotify_client_id,\n",
    "                           spotify_client_secret, redicrect_url):\n",
    "    \"\"\"\n",
    "\n",
    "    :param spotify_user_id:\n",
    "    :param spotify_authorization_scope:\n",
    "    :param spotify_client_id:\n",
    "    :param spotify_client_secret:\n",
    "    :param redicrect_url:\n",
    "    :return:\n",
    "    \"\"\"\n",
    "    token = util.prompt_for_user_token(\n",
    "        spotify_user_id,\n",
    "        spotify_authorization_scope,\n",
    "        client_id = spotify_client_id,\n",
    "        client_secret = spotify_client_secret,\n",
    "        redirect_uri=redicrect_url)\n",
    "\n",
    "    sp = spotipy.Spotify(auth=token)\n",
    "\n",
    "    return sp"
   ],
   "metadata": {
    "collapsed": false,
    "pycharm": {
     "name": "#%%\n"
    }
   }
  },
  {
   "cell_type": "code",
   "execution_count": 30,
   "outputs": [],
   "source": [
    "# Spotipy authentication\n",
    "sp = spotify_authentication(SPOTIFY_USER_ID, SPOTIFY_AUTHORIZATION_SCOPE, SPOTIFY_CLIENT_ID,\n",
    "                       SPOTIFY_CLIENT_SECRET, REDIRECT_URL)\n"
   ],
   "metadata": {
    "collapsed": false,
    "pycharm": {
     "name": "#%%\n"
    }
   }
  },
  {
   "cell_type": "code",
   "execution_count": 6,
   "outputs": [],
   "source": [
    "SOULECTION_SHOW_SPOTIFY_IDS = show_481_spotify_ids\n",
    "PLAYLIST_PREFFIX = 'Soulection Show'\n",
    "SOULECTION_SHOW_NUMBER = 481\n",
    "PLAYLIST_NAME = PLAYLIST_PREFFIX + ' ' + str(SOULECTION_SHOW_NUMBER)\n",
    "\n",
    "def create_and_add_tracks_to_playlist(spotify_song_ids, playlist_name):\n",
    "    \"\"\"\n",
    "\n",
    "    :param spotify_song_ids:\n",
    "    :param playlist_name:\n",
    "    :return:\n",
    "    \"\"\"\n",
    "    playlist = sp.user_playlist_create(SPOTIFY_USER_ID, playlist_name)\n",
    "    sp.playlist_add_items(playlist['id'], spotify_song_ids)\n",
    "\n",
    "    print(f'Spotify playlist \"{playlist_name}\" successfully created!')\n",
    "    pass"
   ],
   "metadata": {
    "collapsed": false,
    "pycharm": {
     "name": "#%%\n"
    }
   }
  },
  {
   "cell_type": "code",
   "execution_count": 7,
   "outputs": [
    {
     "name": "stdout",
     "output_type": "stream",
     "text": [
      "Spotify playlist \"Soulection Show 481\" successfully created!\n"
     ]
    }
   ],
   "source": [
    "create_and_add_tracks_to_playlist(SOULECTION_SHOW_SPOTIFY_IDS, PLAYLIST_NAME)"
   ],
   "metadata": {
    "collapsed": false,
    "pycharm": {
     "name": "#%%\n"
    }
   }
  },
  {
   "cell_type": "code",
   "execution_count": null,
   "outputs": [],
   "source": [
    "# Deletes playlist 'Pythonically Created' using Playlist Id\n",
    "sp.current_user_unfollow_playlist('3Ti4AOTc9SiJgRRpWJ5gVV')"
   ],
   "metadata": {
    "collapsed": false,
    "pycharm": {
     "name": "#%%\n"
    }
   }
  },
  {
   "cell_type": "markdown",
   "source": [
    "## Download Show Art and Upload as Spotify Cover Art"
   ],
   "metadata": {
    "collapsed": false,
    "pycharm": {
     "name": "#%% md\n"
    }
   }
  },
  {
   "cell_type": "code",
   "execution_count": null,
   "outputs": [],
   "source": [
    "# Find show art\n",
    "soulection_tracklist_url = URL + str(481)\n",
    "request = Request(soulection_tracklist_url, headers=HEADER)\n",
    "soulection_tracklist_url_response = urlopen(request)\n",
    "soup = BeautifulSoup(soulection_tracklist_url_response)\n",
    "soup.find_all(alt=\"Show #481\")\n"
   ],
   "metadata": {
    "collapsed": false,
    "pycharm": {
     "name": "#%%\n"
    }
   }
  },
  {
   "cell_type": "code",
   "execution_count": 43,
   "outputs": [],
   "source": [
    "import requests\n",
    "f = open(rf'C:\\Users\\Jaume\\Documents\\Python Projects\\soulection_playlists\\{PLAYLIST_NAME}.jpeg',\n",
    "         'wb')\n",
    "f.write(requests.get('https://firebase.soulectiontracklists'\n",
    "                      '.com/cdn/image//t_square_medium/images/episodes/481.jpg').content)\n",
    "f.close()"
   ],
   "metadata": {
    "collapsed": false,
    "pycharm": {
     "name": "#%%\n"
    }
   }
  },
  {
   "cell_type": "code",
   "execution_count": 44,
   "outputs": [],
   "source": [
    "# Function to turn image into Base64\n",
    "import base64\n",
    "\n",
    "def get_base64_encoded_image(image_path):\n",
    "    with open(image_path, \"rb\") as img_file:\n",
    "        return base64.b64encode(img_file.read()).decode('utf-8')"
   ],
   "metadata": {
    "collapsed": false,
    "pycharm": {
     "name": "#%%\n"
    }
   }
  },
  {
   "cell_type": "code",
   "execution_count": 45,
   "outputs": [],
   "source": [
    "# Get Base64 string\n",
    "base64_string = get_base64_encoded_image(\n",
    "    rf'C:\\Users\\Jaume\\Documents\\Python Projects\\soulection_playlists\\{PLAYLIST_NAME}.jpeg')"
   ],
   "metadata": {
    "collapsed": false,
    "pycharm": {
     "name": "#%%\n"
    }
   }
  },
  {
   "cell_type": "code",
   "execution_count": 46,
   "outputs": [],
   "source": [
    "sp.playlist_upload_cover_image('4vVdLnQ3xcPMRpQhq9614t', base64_string)"
   ],
   "metadata": {
    "collapsed": false,
    "pycharm": {
     "name": "#%%\n"
    }
   }
  },
  {
   "cell_type": "code",
   "execution_count": 32,
   "outputs": [
    {
     "data": {
      "text/plain": "'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'"
     },
     "execution_count": 32,
     "metadata": {},
     "output_type": "execute_result"
    }
   ],
   "source": [
    "base64_string\n"
   ],
   "metadata": {
    "collapsed": false,
    "pycharm": {
     "name": "#%%\n"
    }
   }
  }
 ],
 "metadata": {
  "kernelspec": {
   "display_name": "Python 3",
   "language": "python",
   "name": "python3"
  },
  "language_info": {
   "codemirror_mode": {
    "name": "ipython",
    "version": 2
   },
   "file_extension": ".py",
   "mimetype": "text/x-python",
   "name": "python",
   "nbconvert_exporter": "python",
   "pygments_lexer": "ipython2",
   "version": "2.7.6"
  }
 },
 "nbformat": 4,
 "nbformat_minor": 0
}