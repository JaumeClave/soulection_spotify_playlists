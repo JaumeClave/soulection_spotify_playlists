{
 "cells": [
  {
   "cell_type": "markdown",
   "metadata": {
    "collapsed": true,
    "pycharm": {
     "name": "#%% md\n"
    }
   },
   "source": [
    "# Soulection Spotify Playlists\n",
    "This Jupyter Notebook has been created to code and test a tool that automatically creates a Spotify\n",
    " playlist from a Soulection Radio show using BeautifulSoup and Spotipy."
   ]
  },
  {
   "cell_type": "code",
   "execution_count": 1,
   "outputs": [],
   "source": [
    "# Import modules\n",
    "import pandas as pd\n",
    "import requests\n",
    "from bs4 import BeautifulSoup\n",
    "from urllib.request import Request, urlopen\n",
    "import spotipy\n",
    "import spotipy.util as util\n",
    "import base64\n",
    "import re"
   ],
   "metadata": {
    "collapsed": false,
    "pycharm": {
     "name": "#%%\n"
    }
   }
  },
  {
   "cell_type": "markdown",
   "source": [
    "## Index\n",
    "[Spotipy](#Spotipy)\n"
   ],
   "metadata": {
    "collapsed": false,
    "pycharm": {
     "name": "#%% md\n"
    }
   }
  },
  {
   "cell_type": "markdown",
   "source": [
    "This first section will leverage the BS4 module, in particular BeautifulSoup, in order to return\n",
    "the Spotify song IDs for a single Soulection Radio show. The target URL exists on\n",
    "[soulectiontracklist.com](https://soulectiontracklists.com/episodes/). This website was created\n",
    "in 2016 by a Soulection fan that wanted to index the songs and their timestamps for each show.\n",
    "The website has gradually improved by adding links (SoundCloud, Youtube, Bandcamp, Apple Music\n",
    "and Spotify) when the song is available on particular music streaming platforms.\n",
    "\n",
    "These links are what will drive the success of the project. By scraping an episode for Spotify\n",
    "link the code will be able to determine how many songs from this Soulection show can be found on\n",
    "Spotify (and therefore added into a playlist) and what songs they actually are."
   ],
   "metadata": {
    "collapsed": false,
    "pycharm": {
     "name": "#%% md\n"
    }
   }
  },
  {
   "cell_type": "code",
   "execution_count": null,
   "outputs": [],
   "source": [
    "# Function to return ids of Spotify songs\n",
    "USER_AGENT = 'User-Agent'\n",
    "MOZILLA_GENERAL_TOKEN = 'Mozilla/5.0'\n",
    "HTML_SPOTIFY_TITLE = 'spotify'\n",
    "HREF_ATTRIBUTE = 'href'\n",
    "SPLITTER = 'track/'\n",
    "\n",
    "URL = 'https://soulectiontracklists.com/episodes/'\n",
    "HEADER = {USER_AGENT:MOZILLA_GENERAL_TOKEN}\n",
    "\n",
    "SPOTIFY_HREFS_LIST = list()\n",
    "SPOTIFY_IDS_LIST = list()\n",
    "CLEANED_SPOTIFY_IDS_LIST = list()\n",
    "\n",
    "def loop_spotify_titles(spotify_id_list, spotify_title_soup):\n",
    "    \"\"\"\n",
    "\n",
    "    :param spotify_id_list (list): Empty list for the found Spotify \"Title\" tags to be appended into\n",
    "    :param spotify_title_soup (bs4 object): Object returned from searching for a HTML \"Title\" tag\n",
    "    :return spotify_id_list (list): Populated list containing appended \"Title\" tags\n",
    "    \"\"\"\n",
    "    for spotify_title in spotify_title_soup:\n",
    "        spotify_id_list.append(spotify_title[HREF_ATTRIBUTE])\n",
    "\n",
    "    return spotify_id_list\n",
    "\n",
    "def loop_spotify_ids(spotify_ids_list, spotify_href_list):\n",
    "    \"\"\"\n",
    "\n",
    "    :param spotify_id_list (list): Populated list containing appended \"Title\" tag\n",
    "    :param spotify_href_list (list): Empty list for the found hrefs in the \"Title\" tag\n",
    "    :return spotify_ids_list(list): Populated list containing appended hrefs tags\n",
    "    \"\"\"\n",
    "    for spotify_song_id in spotify_href_list:\n",
    "        spotify_ids_list.append(spotify_song_id.split(SPLITTER)[1])\n",
    "\n",
    "    return spotify_ids_list\n",
    "\n",
    "\n",
    "def clean_spotify_ids(clean_spotify_ids_list, spotify_ids_list):\n",
    "    \"\"\"\n",
    "\n",
    "    :param clean_spotify_ids_list (list): Populated list containing Spotify hrefs\n",
    "    :param spotify_ids_list (list): Empty list used to append cleaned Spotify IDs\n",
    "    :return clean_spotify_ids_list (list): Populated list containing appended cleaned Spotify IDs\n",
    "    \"\"\"\n",
    "    for id in spotify_ids_list:\n",
    "        clean_spotify_ids_list.append(id[:22])\n",
    "\n",
    "    return clean_spotify_ids_list\n",
    "\n",
    "def soulection_show_spotify_song_ids(show_id):\n",
    "    \"\"\"\n",
    "\n",
    "    :param show_id (int): Integer value for the Soulection Radio Show\n",
    "    :return clean_spotify_ids_list (list): List with Spotify song IDs for searched Soulection Show\n",
    "    \"\"\"\n",
    "    soulection_tracklist_url = URL + str(show_id)\n",
    "    request = Request(soulection_tracklist_url, headers=HEADER)\n",
    "    soulection_tracklist_url_response = urlopen(request)\n",
    "    soup = BeautifulSoup(soulection_tracklist_url_response)\n",
    "    spotify_title_soup = soup.find_all(title=HTML_SPOTIFY_TITLE)\n",
    "\n",
    "    spotify_href_list = loop_spotify_titles(SPOTIFY_HREFS_LIST, spotify_title_soup)\n",
    "    spotify_id_list = loop_spotify_ids(SPOTIFY_IDS_LIST, spotify_href_list)\n",
    "    clean_spotify_ids_list = clean_spotify_ids(CLEANED_SPOTIFY_IDS_LIST, spotify_id_list)\n",
    "\n",
    "    return clean_spotify_ids_list"
   ],
   "metadata": {
    "collapsed": false,
    "pycharm": {
     "name": "#%%\n"
    }
   }
  },
  {
   "cell_type": "markdown",
   "source": [
    "This section returns the Spotify song IDs for Soulection show 481 using the created functions in\n",
    "the previous section."
   ],
   "metadata": {
    "collapsed": false,
    "pycharm": {
     "name": "#%% md\n"
    }
   }
  },
  {
   "cell_type": "code",
   "execution_count": null,
   "outputs": [],
   "source": [
    "# Return ids of Spotify songs on Soulection show 481\n",
    "SOULECTION_SHOW_NUMBER = 481\n",
    "show_spotify_ids = soulection_show_spotify_song_ids(SOULECTION_SHOW_NUMBER)\n",
    "show_spotify_ids"
   ],
   "metadata": {
    "collapsed": false,
    "pycharm": {
     "name": "#%%\n"
    }
   }
  },
  {
   "cell_type": "markdown",
   "source": [
    "## Spotipy\n",
    "Spotipy is a lightweight Python library for the Spotify Web API. With Spotipy a user can get full\n",
    "access to all of the music data provided by the Spotify platform. Spotipy supports all of the\n",
    "features of the Spotify Web API including access to all end points, and support for user\n",
    "authorization. For readers interested in the details on the capabilities of the library I\n",
    "encourage them to review the Spotify Web API documentation.\n",
    "\n",
    "All methods require user authorization. In order to use it a user will need to register their app\n",
    "at My Dashboard to get the credentials necessary to make authorized calls (a client id and\n",
    "client secret). A Spotify Dashboard is a place for developers to create and manage their Spotify\n",
    "integrations.\n",
    "\n",
    "This next section creates a function that will be used for Spotify authorization via Spotipy."
   ],
   "metadata": {
    "collapsed": false,
    "pycharm": {
     "name": "#%% md\n"
    }
   }
  },
  {
   "cell_type": "code",
   "execution_count": null,
   "outputs": [],
   "source": [
    "# Function for Spotipy authentication\n",
    "SPOTIFY_API_CREDENTIALS = pd.read_csv('spotify_api_keys.csv', header=None)\n",
    "\n",
    "SPOTIFY_USER_ID = SPOTIFY_API_CREDENTIALS[1].iloc[0]\n",
    "SPOTIFY_CLIENT_ID = SPOTIFY_API_CREDENTIALS[1].iloc[1]\n",
    "SPOTIFY_CLIENT_SECRET = SPOTIFY_API_CREDENTIALS[1].iloc[2]\n",
    "REDIRECT_URL = 'http://127.0.0.1:9090'\n",
    "\n",
    "## All scope\n",
    "SPOTIFY_AUTHORIZATION_SCOPE = 'ugc-image-upload user-read-playback-state streaming ' \\\n",
    "                              'user-read-email playlist-read-collaborative '  \\\n",
    "                              'user-modify-playback-state user-read-private  ' \\\n",
    "                              'playlist-modify-public user-library-modify user-top-read ' \\\n",
    "                              'user-read-playback-position user-read-currently-playing ' \\\n",
    "                              'playlist-read-private user-follow-read app-remote-control ' \\\n",
    "                              'user-read-recently-played user-follow-modify user-library-read'\n",
    "\n",
    "# Function for spotify authorization\n",
    "def spotify_authentication(spotify_user_id, spotify_authorization_scope, spotify_client_id,\n",
    "                           spotify_client_secret, redicrect_url):\n",
    "    \"\"\"\n",
    "\n",
    "    :param spotify_user_id (int): Soptify user ID\n",
    "    :param spotify_authorization_scope (string): Spotify scope shares information only declared\n",
    "    :param spotify_client_id (string): Spotify Developer Client ID\n",
    "    :param spotify_client_secret (string): Spotify Developer Client Secret\n",
    "    :param redicrect_url (url): Spotify Developer redirect URI\n",
    "    :return:\n",
    "    \"\"\"\n",
    "    token = util.prompt_for_user_token(\n",
    "        spotify_user_id,\n",
    "        spotify_authorization_scope,\n",
    "        client_id = spotify_client_id,\n",
    "        client_secret = spotify_client_secret,\n",
    "        redirect_uri=redicrect_url)\n",
    "\n",
    "    sp = spotipy.Spotify(auth=token)\n",
    "\n",
    "    return sp"
   ],
   "metadata": {
    "collapsed": false,
    "pycharm": {
     "name": "#%%\n"
    }
   }
  },
  {
   "cell_type": "code",
   "execution_count": 5,
   "outputs": [],
   "source": [
    "# Spotipy authentication\n",
    "sp = spotify_authentication(SPOTIFY_USER_ID, SPOTIFY_AUTHORIZATION_SCOPE, SPOTIFY_CLIENT_ID,\n",
    "                       SPOTIFY_CLIENT_SECRET, REDIRECT_URL)"
   ],
   "metadata": {
    "collapsed": false,
    "pycharm": {
     "name": "#%%\n"
    }
   }
  },
  {
   "cell_type": "markdown",
   "source": [
    "### Application Programming Interface (API)\n",
    "Spotipy is a Python API with Spotify. An application programming interface (API) is a computing\n",
    "interface which defines interactions between multiple software intermediaries. It defines the\n",
    "kinds of calls or requests that can be made, how to make them, the data formats that should be\n",
    "used, the conventions to follow, etc.\n",
    "\n",
    "An API brokers access to a different application to provide functionality or access to data, so\n",
    "data can be included in different applications. Large tech companies, especially social media\n",
    "companies frequently make their aggregate data available to the public, but APIs are also\n",
    "maintained by government organizations, conferences, publishing houses, software startups, fan\n",
    "groups, eSports leagues and even individuals, in order to share anything from social media\n",
    "content to trivia questions, rankings, maps, song lyrics, recipes, parts lists and more.\n",
    "\n",
    "In short, any person or organization that collects data might have an interest in making that\n",
    "data available for use by a different app. It is a fantastic way to build communities and allow\n",
    "for easy access of data analysis and creation."
   ],
   "metadata": {
    "collapsed": false,
    "pycharm": {
     "name": "#%% md\n"
    }
   }
  },
  {
   "cell_type": "code",
   "execution_count": 6,
   "outputs": [],
   "source": [
    "# Create variables for playlist creation\n",
    "PLAYLIST_PREFFIX = 'Soulection Show'\n",
    "PLAYLIST_NAME = PLAYLIST_PREFFIX + ' ' + str(SOULECTION_SHOW_NUMBER)\n",
    "\n",
    "# Function to create and add tracks to playlist\n",
    "def create_and_add_tracks_to_playlist(spotify_song_ids, playlist_name):\n",
    "    \"\"\"\n",
    "\n",
    "    :param spotify_song_ids (list): List of Spotify song IDs\n",
    "    :param playlist_name (string): Name of playlist to be created\n",
    "    :return playlist['id'] (string): Spotify ID of created playlist\n",
    "    \"\"\"\n",
    "    playlist = sp.user_playlist_create(SPOTIFY_USER_ID, playlist_name)\n",
    "    sp.playlist_add_items(playlist['id'], spotify_song_ids)\n",
    "\n",
    "    print(f'Spotify playlist \"{playlist_name}\" successfully created!')\n",
    "\n",
    "    return playlist['id']"
   ],
   "metadata": {
    "collapsed": false,
    "pycharm": {
     "name": "#%%\n"
    }
   }
  },
  {
   "cell_type": "code",
   "execution_count": 7,
   "outputs": [
    {
     "name": "stdout",
     "output_type": "stream",
     "text": [
      "Spotify playlist \"Soulection Show 461\" successfully created!\n"
     ]
    }
   ],
   "source": [
    "created_playlist_id = create_and_add_tracks_to_playlist(show_spotify_ids, PLAYLIST_NAME)"
   ],
   "metadata": {
    "collapsed": false,
    "pycharm": {
     "name": "#%%\n"
    }
   }
  },
  {
   "cell_type": "markdown",
   "source": [
    "## Soulection/Spotify Cover Art\n",
    "This section will improve the created playlist by adding the Soulection Radio Show cover art for\n",
    "the respective show and add a description to the playlist to inform listeners to what they are\n",
    "listening to."
   ],
   "metadata": {
    "collapsed": false,
    "pycharm": {
     "name": "#%% md\n"
    }
   }
  },
  {
   "cell_type": "code",
   "execution_count": 6,
   "outputs": [],
   "source": [
    "ALT_TAG = 'Show #'\n",
    "SRCSET_ATTRIBUTE = 'srcset'\n",
    "SPLIT_BY_COMMA = ','\n",
    "SPLIT_BY_SPACE = ' '\n",
    "INDEX_2 = 2\n",
    "INDEX_1 = 1\n",
    "INDEX_0 = 0\n",
    "REGEX_WILDCARD = '.*'\n",
    "\n",
    "# Function that returns the href of the cover art\n",
    "def soulection_show_art_cover_href(show_id, index):\n",
    "    \"\"\"\n",
    "\n",
    "    :param show_id (int): Soulection Radio Show ID\n",
    "    :param index (int): Integer (index) that determines quality of image to download\n",
    "    :return (string): HREF of Souecltion Radio Show cover art\n",
    "    \"\"\"\n",
    "    soulection_tracklist_url = URL + str(show_id)\n",
    "    request = Request(soulection_tracklist_url, headers=HEADER)\n",
    "    soulection_tracklist_url_response = urlopen(request)\n",
    "    soup = BeautifulSoup(soulection_tracklist_url_response)\n",
    "    soulection_show_cover_art_soup = soup.find(alt=re.compile(ALT_TAG + str(show_id) +\n",
    "                                                              REGEX_WILDCARD))\n",
    "\n",
    "    soulection_show_cover_art_href_string = soulection_show_cover_art_soup[SRCSET_ATTRIBUTE].split \\\n",
    "        (SPLIT_BY_COMMA)[index].split(SPLIT_BY_SPACE)[INDEX_0][1:]\n",
    "\n",
    "    return soulection_show_cover_art_href_string\n",
    "\n",
    "\n",
    "IMAGE_FOLDER = r'C:\\Users\\Jaume\\Documents\\Python Projects\\soulection_playlists\\''\n",
    "JPEG_STRING = '.jpeg'\n",
    "WRITING_BINARY = 'wb'\n",
    "READ_BINARY = 'rb'\n",
    "UTF_8_ENCODING = 'utf-8'\n",
    "\n",
    "# Function that saves the cover art href to a jpeg on the local\n",
    "def save_jepg_from_href(href):\n",
    "    \"\"\"\n",
    "\n",
    "    :param href (string): HREF of Souecltion Radio Show cover art\n",
    "    :return:\n",
    "    \"\"\"\n",
    "    file = open(IMAGE_FOLDER + PLAYLIST_NAME + JPEG_STRING, WRITING_BINARY)\n",
    "    file.write(requests.get(href).content)\n",
    "    file.close()\n",
    "\n",
    "    pass\n",
    "\n",
    "# Function that encodes the jpeg to base64 (required by Spotify)\n",
    "def get_base64_encoded_image(image_path):\n",
    "    \"\"\"\n",
    "\n",
    "    :param image_path (string): Local path of where image is stored\n",
    "    :return base64 (string): Base64 encoded image\n",
    "    \"\"\"\n",
    "    with open(image_path, READ_BINARY) as img_file:\n",
    "        return base64.b64encode(img_file.read()).decode(UTF_8_ENCODING)\n",
    "\n",
    "\n",
    "# Function that groups the entire cover art process\n",
    "def upload_spotify_playlist_cover_art(show_ids_list, index, playlist_id):\n",
    "    \"\"\"\n",
    "\n",
    "    :param show_ids_list (list): List of Spotify song IDs\n",
    "    :param index (int): Integer (index) that determines quality of image to download\n",
    "    :param playlist_id (sting): Spotify ID of created playlist\n",
    "    :return:\n",
    "    \"\"\"\n",
    "\n",
    "    href = soulection_show_art_cover_href(show_ids_list, index)\n",
    "    save_jepg_from_href(href)\n",
    "    base64_encoded_cover_art = get_base64_encoded_image(IMAGE_FOLDER + PLAYLIST_NAME +\n",
    "                                                        JPEG_STRING)\n",
    "    sp.playlist_upload_cover_image(playlist_id, base64_encoded_cover_art)\n",
    "\n",
    "    pass\n",
    "\n",
    "# Tries to upload the crispest best quality image first and if fails it attempts a lower res.\n",
    "try:\n",
    "    upload_spotify_playlist_cover_art(SOULECTION_SHOW_NUMBER, INDEX_1, created_playlist_id)\n",
    "except:\n",
    "    upload_spotify_playlist_cover_art(SOULECTION_SHOW_NUMBER, INDEX_2, created_playlist_id)\n",
    "\n",
    "\n",
    "# Make playlist public and change description\n",
    "PLAYLIST_DESCRIPTION = f'This playlist contains songs, in order, from Soulection Radio Show ' \\\n",
    "                       f'{SOULECTION_SHOW_NUMBER}. The playlist only has songs that can be found ' \\\n",
    "                       f'on Spotify and therefore is missing \"SoundCloud gems\". You are welcome ' \\\n",
    "                       f'to share it with friends! This playlist and all of the others ' \\\n",
    "                       f'(Soulection) have been created automatically using Python.'\n",
    "\n",
    "sp.playlist_change_details(created_playlist_id, public=True, description=PLAYLIST_DESCRIPTION)"
   ],
   "metadata": {
    "collapsed": false,
    "pycharm": {
     "name": "#%%\n"
    }
   }
  },
  {
   "cell_type": "markdown",
   "source": [
    "## Soulection to Spotify\n",
    "This section ties all of the above sections"
   ],
   "metadata": {
    "collapsed": false,
    "pycharm": {
     "name": "#%% md\n"
    }
   }
  },
  {
   "cell_type": "code",
   "execution_count": null,
   "outputs": [],
   "source": [
    "# Import modules\n",
    "import pandas as pd\n",
    "import requests\n",
    "from bs4 import BeautifulSoup\n",
    "from urllib.request import Request, urlopen\n",
    "import spotipy\n",
    "import spotipy.util as util\n",
    "import base64\n",
    "import re\n",
    "\n",
    "# Function to return ids of Spotify songs\n",
    "USER_AGENT = 'User-Agent'\n",
    "MOZILLA_GENERAL_TOKEN = 'Mozilla/5.0'\n",
    "HTML_SPOTIFY_TITLE = 'spotify'\n",
    "HREF_ATTRIBUTE = 'href'\n",
    "SPLITTER = 'track/'\n",
    "\n",
    "URL = 'https://soulectiontracklists.com/episodes/'\n",
    "HEADER = {USER_AGENT:MOZILLA_GENERAL_TOKEN}\n",
    "\n",
    "SPOTIFY_HREFS_LIST = list()\n",
    "SPOTIFY_IDS_LIST = list()\n",
    "CLEANED_SPOTIFY_IDS_LIST = list()\n",
    "\n",
    "def loop_spotify_titles(spotify_id_list, spotify_title_soup):\n",
    "    \"\"\"\n",
    "\n",
    "    :param spotify_id_list (list): Empty list for the found Spotify \"Title\" tags to be appended into\n",
    "    :param spotify_title_soup (bs4 object): Object returned from searching for a HTML \"Title\" tag\n",
    "    :return spotify_id_list (list): Populated list containing appended \"Title\" tags\n",
    "    \"\"\"\n",
    "    for spotify_title in spotify_title_soup:\n",
    "        spotify_id_list.append(spotify_title[HREF_ATTRIBUTE])\n",
    "\n",
    "    return spotify_id_list\n",
    "\n",
    "def loop_spotify_ids(spotify_ids_list, spotify_href_list):\n",
    "    \"\"\"\n",
    "\n",
    "    :param spotify_id_list (list): Populated list containing appended \"Title\" tag\n",
    "    :param spotify_href_list (list): Empty list for the found hrefs in the \"Title\" tag\n",
    "    :return spotify_ids_list(list): Populated list containing appended hrefs tags\n",
    "    \"\"\"\n",
    "    for spotify_song_id in spotify_href_list:\n",
    "        spotify_ids_list.append(spotify_song_id.split(SPLITTER)[1])\n",
    "\n",
    "    return spotify_ids_list\n",
    "\n",
    "\n",
    "def clean_spotify_ids(clean_spotify_ids_list, spotify_ids_list):\n",
    "    \"\"\"\n",
    "\n",
    "    :param clean_spotify_ids_list (list): Populated list containing Spotify hrefs\n",
    "    :param spotify_ids_list (list): Empty list used to append cleaned Spotify IDs\n",
    "    :return clean_spotify_ids_list (list): Populated list containing appended cleaned Spotify IDs\n",
    "    \"\"\"\n",
    "    for id in spotify_ids_list:\n",
    "        clean_spotify_ids_list.append(id[:22])\n",
    "\n",
    "    return clean_spotify_ids_list\n",
    "\n",
    "def soulection_show_spotify_song_ids(show_id):\n",
    "    \"\"\"\n",
    "\n",
    "    :param show_id (int): Integer value for the Soulection Radio Show\n",
    "    :return clean_spotify_ids_list (list): List with Spotify song IDs for searched Soulection Show\n",
    "    \"\"\"\n",
    "    soulection_tracklist_url = URL + str(show_id)\n",
    "    request = Request(soulection_tracklist_url, headers=HEADER)\n",
    "    soulection_tracklist_url_response = urlopen(request)\n",
    "    soup = BeautifulSoup(soulection_tracklist_url_response)\n",
    "    spotify_title_soup = soup.find_all(title=HTML_SPOTIFY_TITLE)\n",
    "\n",
    "    spotify_href_list = loop_spotify_titles(SPOTIFY_HREFS_LIST, spotify_title_soup)\n",
    "    spotify_id_list = loop_spotify_ids(SPOTIFY_IDS_LIST, spotify_href_list)\n",
    "    clean_spotify_ids_list = clean_spotify_ids(CLEANED_SPOTIFY_IDS_LIST, spotify_id_list)\n",
    "\n",
    "    return clean_spotify_ids_list\n",
    "\n",
    "\n",
    "# Function for Spotipy authentication\n",
    "SPOTIFY_API_CREDENTIALS = pd.read_csv(r'C:\\Users\\Jaume\\Documents\\Python '\n",
    "                                      r'Projects\\soulection_playlists\\spotify_api_keys.csv',\n",
    "                                      header=None)\n",
    "\n",
    "SPOTIFY_USER_ID = SPOTIFY_API_CREDENTIALS[1].iloc[0]\n",
    "SPOTIFY_CLIENT_ID = SPOTIFY_API_CREDENTIALS[1].iloc[1]\n",
    "SPOTIFY_CLIENT_SECRET = SPOTIFY_API_CREDENTIALS[1].iloc[2]\n",
    "REDIRECT_URL = 'http://127.0.0.1:9090'\n",
    "\n",
    "## All scope\n",
    "SPOTIFY_AUTHORIZATION_SCOPE = 'ugc-image-upload user-read-playback-state streaming ' \\\n",
    "                              'user-read-email playlist-read-collaborative '  \\\n",
    "                              'user-modify-playback-state user-read-private  ' \\\n",
    "                              'playlist-modify-public user-library-modify user-top-read ' \\\n",
    "                              'user-read-playback-position user-read-currently-playing ' \\\n",
    "                              'playlist-read-private user-follow-read app-remote-control ' \\\n",
    "                              'user-read-recently-played user-follow-modify user-library-read'\n",
    "\n",
    "def spotify_authentication(spotify_user_id, spotify_authorization_scope, spotify_client_id,\n",
    "                           spotify_client_secret, redicrect_url):\n",
    "    \"\"\"\n",
    "\n",
    "    :param spotify_user_id (int): Soptify user ID\n",
    "    :param spotify_authorization_scope (string): Spotify scope shares information only declared\n",
    "    :param spotify_client_id (string): Spotify Developer Client ID\n",
    "    :param spotify_client_secret (string): Spotify Developer Client Secret\n",
    "    :param redicrect_url (url): Spotify Developer redirect URI\n",
    "    :return:\n",
    "    \"\"\"\n",
    "    token = util.prompt_for_user_token(\n",
    "        spotify_user_id,\n",
    "        spotify_authorization_scope,\n",
    "        client_id = spotify_client_id,\n",
    "        client_secret = spotify_client_secret,\n",
    "        redirect_uri=redicrect_url)\n",
    "\n",
    "    sp = spotipy.Spotify(auth=token)\n",
    "\n",
    "    return sp\n",
    "\n",
    "\n",
    "sp = spotify_authentication(SPOTIFY_USER_ID, SPOTIFY_AUTHORIZATION_SCOPE, SPOTIFY_CLIENT_ID,\n",
    "                       SPOTIFY_CLIENT_SECRET, REDIRECT_URL)\n",
    "\n",
    "\n",
    "PLAYLIST_PREFFIX = 'Soulection Show'\n",
    "\n",
    "def create_and_add_tracks_to_playlist(spotify_song_ids, playlist_name):\n",
    "    \"\"\"\n",
    "\n",
    "    :param spotify_song_ids (list): List of Spotify song IDs\n",
    "    :param playlist_name (string): Name of playlist to be created\n",
    "    :return playlist['id'] (string): Spotify ID of created playlist\n",
    "    \"\"\"\n",
    "    playlist = sp.user_playlist_create(SPOTIFY_USER_ID, playlist_name)\n",
    "    sp.playlist_add_items(playlist['id'], spotify_song_ids)\n",
    "\n",
    "    return playlist['id']\n",
    "\n",
    "\n",
    "ALT_TAG = 'Show #'\n",
    "SRCSET_ATTRIBUTE = 'srcset'\n",
    "SPLIT_BY_COMMA = ','\n",
    "SPLIT_BY_SPACE = ' '\n",
    "INDEX_2 = 2\n",
    "INDEX_1 = 1\n",
    "INDEX_0 = 0\n",
    "REGEX_WILDCARD = '.*'\n",
    "\n",
    "# Function that returns the href of the cover art\n",
    "def soulection_show_art_cover_href(show_id, index):\n",
    "    \"\"\"\n",
    "\n",
    "    :param show_id (int): Soulection Radio Show ID\n",
    "    :param index (int): Integer (index) that determines quality of image to download\n",
    "    :return (string): HREF of Souecltion Radio Show cover art\n",
    "    \"\"\"\n",
    "    soulection_tracklist_url = URL + str(show_id)\n",
    "    request = Request(soulection_tracklist_url, headers=HEADER)\n",
    "    soulection_tracklist_url_response = urlopen(request)\n",
    "    soup = BeautifulSoup(soulection_tracklist_url_response)\n",
    "    soulection_show_cover_art_soup = soup.find(alt=re.compile(ALT_TAG + str(show_id) +\n",
    "                                                              REGEX_WILDCARD))\n",
    "\n",
    "    soulection_show_cover_art_href_string = soulection_show_cover_art_soup[SRCSET_ATTRIBUTE].split \\\n",
    "        (SPLIT_BY_COMMA)[index].split(SPLIT_BY_SPACE)[INDEX_0][1:]\n",
    "\n",
    "    return soulection_show_cover_art_href_string\n",
    "\n",
    "\n",
    "IMAGE_FOLDER = r'C:\\Users\\Jaume\\Documents\\Python Projects\\soulection_playlists\\''\n",
    "JPEG_STRING = '.jpeg'\n",
    "WRITING_BINARY = 'wb'\n",
    "READ_BINARY = 'rb'\n",
    "UTF_8_ENCODING = 'utf-8'\n",
    "\n",
    "# Function that saves the cover art href to a jpeg on the local\n",
    "def save_jepg_from_href(href, playlist_name):\n",
    "    \"\"\"\n",
    "\n",
    "    :param href (string): HREF of Souecltion Radio Show cover art\n",
    "    :return:\n",
    "    \"\"\"\n",
    "    file = open(IMAGE_FOLDER + playlist_name + JPEG_STRING, WRITING_BINARY)\n",
    "    file.write(requests.get(href).content)\n",
    "    file.close()\n",
    "\n",
    "    pass\n",
    "\n",
    "# Function that encodes the jpeg to base64 (required by Spotify)\n",
    "def get_base64_encoded_image(image_path):\n",
    "    \"\"\"\n",
    "\n",
    "    :param image_path (string): Local path of where image is stored\n",
    "    :return base64 (string): Base64 encoded image\n",
    "    \"\"\"\n",
    "    with open(image_path, READ_BINARY) as img_file:\n",
    "        return base64.b64encode(img_file.read()).decode(UTF_8_ENCODING)\n",
    "\n",
    "\n",
    "# Function that groups the entire cover art process\n",
    "def upload_spotify_playlist_cover_art(show_ids_list, index, playlist_id, playlist_name):\n",
    "    \"\"\"\n",
    "\n",
    "    :param show_ids_list (list): List of Spotify song IDs\n",
    "    :param index (int): Integer (index) that determines quality of image to download\n",
    "    :param playlist_id (sting): Spotify ID of created playlist\n",
    "    :return:\n",
    "    \"\"\"\n",
    "\n",
    "    href = soulection_show_art_cover_href(show_ids_list, index)\n",
    "    save_jepg_from_href(href, playlist_name)\n",
    "    base64_encoded_cover_art = get_base64_encoded_image(IMAGE_FOLDER + playlist_name +\n",
    "                                                        JPEG_STRING)\n",
    "    sp.playlist_upload_cover_image(playlist_id, base64_encoded_cover_art)\n",
    "\n",
    "    pass\n",
    "\n",
    "\n",
    "PLAYLIST_DESCRIPTION_PART1 = 'This playlist contains songs, in order, from Soulection Radio Show '\n",
    "PLAYLIST_DESCRIPTION_PART2 = '. The playlist only has songs that can be found on Spotify and ' \\\n",
    "                             'therefore is missing \"SoundCloud gems\". You are welcome to share it' \\\n",
    "                             ' with friends! This playlist and all of the others (Soulection) ' \\\n",
    "                             'have been created automatically using Python.'\n",
    "\n",
    "\n",
    "def soulection_show_to_spotify_playlist(soulection_show_id):\n",
    "    \"\"\"\n",
    "\n",
    "    :param soulection_show_id (int): Soulection Radio Show ID\n",
    "    :return:\n",
    "    \"\"\"\n",
    "\n",
    "    playlist_name = PLAYLIST_PREFFIX + ' ' + str(soulection_show_id)\n",
    "    playlist_description = PLAYLIST_DESCRIPTION_PART1 + str(soulection_show_id) + \\\n",
    "                           PLAYLIST_DESCRIPTION_PART2\n",
    "\n",
    "    show_spotify_ids = soulection_show_spotify_song_ids(soulection_show_id)\n",
    "    created_playlist_id = create_and_add_tracks_to_playlist(show_spotify_ids, playlist_name)\n",
    "\n",
    "    try:\n",
    "        upload_spotify_playlist_cover_art(soulection_show_id, INDEX_1, created_playlist_id,\n",
    "                                          playlist_name)\n",
    "    except:\n",
    "        upload_spotify_playlist_cover_art(soulection_show_id, INDEX_2, created_playlist_id,\n",
    "                                          playlist_name)\n",
    "\n",
    "    sp.playlist_change_details(created_playlist_id, public=True, description=playlist_description)\n",
    "\n",
    "    pass"
   ],
   "metadata": {
    "collapsed": false,
    "pycharm": {
     "name": "#%%\n"
    }
   }
  },
  {
   "cell_type": "code",
   "execution_count": null,
   "outputs": [],
   "source": [
    "soulection_show_to_spotify_playlist(400)"
   ],
   "metadata": {
    "collapsed": false,
    "pycharm": {
     "name": "#%%\n"
    }
   }
  },
  {
   "cell_type": "markdown",
   "source": [
    "## Conclusion\n",
    "\n",
    "\n",
    "The next step is to automate this completely. This code should run every week automatically so\n",
    "that no Soulection Show is ever missed. In order to do this,\n",
    "[Soulection Tracklists](#https://soulectiontracklists.com/episodes/) must be accessed and the\n",
    "latest (first) show posting can be scraped for ID and used to create a Spotify playlist."
   ],
   "metadata": {
    "collapsed": false,
    "pycharm": {
     "name": "#%% md\n"
    }
   }
  },
  {
   "cell_type": "markdown",
   "source": [
    "## Further Reading\n"
   ],
   "metadata": {
    "collapsed": false,
    "pycharm": {
     "name": "#%% md\n"
    }
   }
  }
 ],
 "metadata": {
  "kernelspec": {
   "display_name": "Python 3",
   "language": "python",
   "name": "python3"
  },
  "language_info": {
   "codemirror_mode": {
    "name": "ipython",
    "version": 2
   },
   "file_extension": ".py",
   "mimetype": "text/x-python",
   "name": "python",
   "nbconvert_exporter": "python",
   "pygments_lexer": "ipython2",
   "version": "2.7.6"
  }
 },
 "nbformat": 4,
 "nbformat_minor": 0
}