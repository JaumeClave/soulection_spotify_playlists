{
 "cells": [
  {
   "cell_type": "markdown",
   "metadata": {
    "collapsed": true,
    "pycharm": {
     "name": "#%% md\n"
    }
   },
   "source": [
    "# Soulection Spotify Playlists\n",
    "\n"
   ]
  },
  {
   "cell_type": "code",
   "execution_count": 1,
   "outputs": [],
   "source": [
    "import pandas as pd\n",
    "from bs4 import BeautifulSoup\n",
    "from urllib.request import Request, urlopen\n",
    "import spotipy\n",
    "import spotipy.util as util"
   ],
   "metadata": {
    "collapsed": false,
    "pycharm": {
     "name": "#%%\n"
    }
   }
  },
  {
   "cell_type": "code",
   "execution_count": 2,
   "outputs": [],
   "source": [
    "USER_AGENT = 'User-Agent'\n",
    "MOZILLA_GENERAL_TOKEN = 'Mozilla/5.0'\n",
    "HTML_SPOTIFY_TITLE = 'spotify'\n",
    "HREF_ATTRIBUTE = 'href'\n",
    "\n",
    "URL = 'https://soulectiontracklists.com/episodes/'\n",
    "HEADER = {USER_AGENT:MOZILLA_GENERAL_TOKEN}\n",
    "\n",
    "SPOTIFY_IDS_LIST = list()\n",
    "\n",
    "def loop_spotify_titles(spotify_id_list, spotify_title_soup):\n",
    "    \"\"\"\n",
    "\n",
    "    :param spotify_id_list:\n",
    "    :param spotify_title_soup:\n",
    "    :return:\n",
    "    \"\"\"\n",
    "    for spotify_title in spotify_title_soup:\n",
    "        spotify_id_list.append(spotify_title[HREF_ATTRIBUTE])\n",
    "\n",
    "    return spotify_id_list\n",
    "\n",
    "\n",
    "def soulection_show_spotify_song_ids(SHOW_ID):\n",
    "    \"\"\"\n",
    "\n",
    "    :param SHOW_ID:\n",
    "    :return:\n",
    "    \"\"\"\n",
    "    soulection_tracklist_url = URL + str(SHOW_ID)\n",
    "    request = Request(soulection_tracklist_url, headers=HEADER)\n",
    "    soulection_tracklist_url_response = urlopen(request)\n",
    "    soup = BeautifulSoup(soulection_tracklist_url_response)\n",
    "    spotify_title_soup = soup.find_all(title=HTML_SPOTIFY_TITLE)\n",
    "\n",
    "    spotify_id_list = loop_spotify_titles(SPOTIFY_IDS_LIST, spotify_title_soup)\n",
    "\n",
    "    return spotify_id_list"
   ],
   "metadata": {
    "collapsed": false,
    "pycharm": {
     "name": "#%%\n"
    }
   }
  },
  {
   "cell_type": "code",
   "execution_count": 3,
   "outputs": [
    {
     "data": {
      "text/plain": "['https://open.spotify.com/track/4rb6UhWOdOJPkBydlORUXa',\n 'https://open.spotify.com/track/534RDJg7kt3vC2eKm597ch',\n 'https://open.spotify.com/track/0pJtNLIDQNAxfkimj9Wlp6',\n 'https://open.spotify.com/track/07cHAfQUP9WCKDvkRsbMqh',\n 'https://open.spotify.com/track/4pEJHKMGI2nnrb0VndpjRo',\n 'https://open.spotify.com/track/4n9Gm13q0mnglxVbjjx8qY',\n 'https://open.spotify.com/track/3NAA9XN9xarn0V2nmw6EoV',\n 'https://open.spotify.com/track/1gAgb7hnZ9AAJ5MCcvSKqJ',\n 'https://open.spotify.com/track/4204hwPYuToiuSunPFUoML',\n 'https://open.spotify.com/track/51mLQ3w7yR7vjdSTFLWaY5',\n 'https://open.spotify.com/track/19ehhyzTggrwMzaOzYt85g',\n 'https://open.spotify.com/track/4Me1TigFUXeMgbfnpkxEZY',\n 'https://open.spotify.com/track/1nCxU22YdzeN88O4iyigcP',\n 'https://open.spotify.com/track/0b3yhUOay7md1oHvb1P8Zy',\n 'https://open.spotify.com/track/2Tq4arSmPiiy0DqCZVDtdJ',\n 'https://open.spotify.com/track/0tdA3tsJ4n6rJuiId3KrOP']"
     },
     "execution_count": 3,
     "metadata": {},
     "output_type": "execute_result"
    }
   ],
   "source": [
    "soulection_show_spotify_song_ids(481)"
   ],
   "metadata": {
    "collapsed": false,
    "pycharm": {
     "name": "#%%\n"
    }
   }
  },
  {
   "cell_type": "code",
   "execution_count": 4,
   "outputs": [],
   "source": [
    "SPOTIFY_API_CREDENTIALS = pd.read_csv('spotify_api_keys.csv', header=None)\n",
    "\n",
    "SPOTIFY_USER_ID = SPOTIFY_API_CREDENTIALS[1].iloc[0]\n",
    "SPOTIFY_CLIENT_ID = SPOTIFY_API_CREDENTIALS[1].iloc[1]\n",
    "SPOTIFY_CLIENT_SECRET = SPOTIFY_API_CREDENTIALS[1].iloc[2]\n",
    "REDIRECT_URL = 'http://127.0.0.1:9090'\n",
    "\n",
    "## All scope\n",
    "SPOTIFY_AUTHORIZATION_SCOPE = 'ugc-image-upload user-read-playback-state streaming ' \\\n",
    "                              'user-read-email playlist-read-collaborative '  \\\n",
    "                              'user-modify-playback-state user-read-private  ' \\\n",
    "                              'playlist-modify-public user-library-modify user-top-read ' \\\n",
    "                              'user-read-playback-position user-read-currently-playing ' \\\n",
    "                              'playlist-read-private user-follow-read app-remote-control ' \\\n",
    "                              'user-read-recently-played user-follow-modify user-library-read'\n",
    "\n",
    "def spotify_authentication(spotify_user_id, spotify_authorization_scope, spotify_client_id,\n",
    "                           spotify_client_secret, redicrect_url):\n",
    "    \"\"\"\n",
    "\n",
    "    :param spotify_user_id:\n",
    "    :param spotify_authorization_scope:\n",
    "    :param spotify_client_id:\n",
    "    :param spotify_client_secret:\n",
    "    :param redicrect_url:\n",
    "    :return:\n",
    "    \"\"\"\n",
    "    token = util.prompt_for_user_token(\n",
    "        spotify_user_id,\n",
    "        spotify_authorization_scope,\n",
    "        client_id = spotify_client_id,\n",
    "        client_secret = spotify_client_secret,\n",
    "        redirect_uri=redicrect_url)\n",
    "\n",
    "    sp = spotipy.Spotify(auth=token)\n",
    "\n",
    "    return sp"
   ],
   "metadata": {
    "collapsed": false,
    "pycharm": {
     "name": "#%%\n"
    }
   }
  },
  {
   "cell_type": "code",
   "execution_count": 5,
   "outputs": [],
   "source": [
    "sp = spotify_authentication(SPOTIFY_USER_ID, SPOTIFY_AUTHORIZATION_SCOPE, SPOTIFY_CLIENT_ID,\n",
    "                       SPOTIFY_CLIENT_SECRET, REDIRECT_URL)"
   ],
   "metadata": {
    "collapsed": false,
    "pycharm": {
     "name": "#%%\n"
    }
   }
  },
  {
   "cell_type": "code",
   "execution_count": 7,
   "outputs": [
    {
     "data": {
      "text/plain": "{'album': {'album_type': 'single',\n  'artists': [{'external_urls': {'spotify': 'https://open.spotify.com/artist/6ZnscdXjbXSsMCiCkMxpVs'},\n    'href': 'https://api.spotify.com/v1/artists/6ZnscdXjbXSsMCiCkMxpVs',\n    'id': '6ZnscdXjbXSsMCiCkMxpVs',\n    'name': 'MOJVKI',\n    'type': 'artist',\n    'uri': 'spotify:artist:6ZnscdXjbXSsMCiCkMxpVs'}],\n  'available_markets': [],\n  'external_urls': {'spotify': 'https://open.spotify.com/album/4NDNddGOpMxLGryIb03wcB'},\n  'href': 'https://api.spotify.com/v1/albums/4NDNddGOpMxLGryIb03wcB',\n  'id': '4NDNddGOpMxLGryIb03wcB',\n  'images': [{'height': 640,\n    'url': 'https://i.scdn.co/image/ab67616d0000b273c63c435bca651ca5ece52879',\n    'width': 640},\n   {'height': 300,\n    'url': 'https://i.scdn.co/image/ab67616d00001e02c63c435bca651ca5ece52879',\n    'width': 300},\n   {'height': 64,\n    'url': 'https://i.scdn.co/image/ab67616d00004851c63c435bca651ca5ece52879',\n    'width': 64}],\n  'name': 'Ways',\n  'release_date': '2020-10-28',\n  'release_date_precision': 'day',\n  'total_tracks': 3,\n  'type': 'album',\n  'uri': 'spotify:album:4NDNddGOpMxLGryIb03wcB'},\n 'artists': [{'external_urls': {'spotify': 'https://open.spotify.com/artist/6ZnscdXjbXSsMCiCkMxpVs'},\n   'href': 'https://api.spotify.com/v1/artists/6ZnscdXjbXSsMCiCkMxpVs',\n   'id': '6ZnscdXjbXSsMCiCkMxpVs',\n   'name': 'MOJVKI',\n   'type': 'artist',\n   'uri': 'spotify:artist:6ZnscdXjbXSsMCiCkMxpVs'}],\n 'available_markets': [],\n 'disc_number': 1,\n 'duration_ms': 89600,\n 'explicit': False,\n 'external_ids': {'isrc': 'QZNWR2079332'},\n 'external_urls': {'spotify': 'https://open.spotify.com/track/4rb6UhWOdOJPkBydlORUXa'},\n 'href': 'https://api.spotify.com/v1/tracks/4rb6UhWOdOJPkBydlORUXa',\n 'id': '4rb6UhWOdOJPkBydlORUXa',\n 'is_local': False,\n 'is_playable': False,\n 'name': 'Choose The Right Way',\n 'popularity': 3,\n 'preview_url': None,\n 'restrictions': {'reason': 'market'},\n 'track_number': 1,\n 'type': 'track',\n 'uri': 'spotify:track:4rb6UhWOdOJPkBydlORUXa'}"
     },
     "execution_count": 7,
     "metadata": {},
     "output_type": "execute_result"
    }
   ],
   "source": [
    "sp.track('4rb6UhWOdOJPkBydlORUXa')"
   ],
   "metadata": {
    "collapsed": false,
    "pycharm": {
     "name": "#%%\n"
    }
   }
  },
  {
   "cell_type": "code",
   "execution_count": 6,
   "outputs": [
    {
     "name": "stdout",
     "output_type": "stream",
     "text": [
      "Whateva Will Be - A Tribe Called Quest\n",
      "Losin' Weight (featuring Prodigy) (feat. Prodigy) - Cam’ron\n",
      "American Dream - Children Of The Corn\n",
      "Where Will I Go - Brief Encounter\n",
      "327 - Westside Gunn\n",
      "That's Love Ft. Mac Miller & Heather Victoria - 9th Wonder\n",
      "Sober - Mahalia\n",
      "Garms - dxvl\n",
      "Something to Rap About (feat. Tyler, The Creator) - Freddie Gibbs\n",
      "Bad Idea (feat. Chance the Rapper) - Cordae\n",
      "What I'm Here 4 - Gang Starr\n",
      "Dinner Time - Stand High Patrol\n",
      "Pusherman - Curtis Mayfield\n",
      "Gimme Shelter - The Rolling Stones\n",
      "Beast Of Burden - Remastered - The Rolling Stones\n",
      "This Night Has Opened My Eyes - 2011 Remaster - The Smiths\n",
      "Something Special - Pop Smoke\n",
      "Didn't Cha Know - Erykah Badu\n",
      "Mellow Mouser - 11 Acorn Lane\n",
      "Tulips - Damu The Fudgemunk\n"
     ]
    }
   ],
   "source": [
    "results = sp.current_user_saved_tracks()\n",
    "for item in results['items']:\n",
    "    track = item['track']\n",
    "    print(track['name'] + ' - ' + track['artists'][0]['name'])\n",
    "\n"
   ],
   "metadata": {
    "collapsed": false,
    "pycharm": {
     "name": "#%%\n"
    }
   }
  }
 ],
 "metadata": {
  "kernelspec": {
   "display_name": "Python 3",
   "language": "python",
   "name": "python3"
  },
  "language_info": {
   "codemirror_mode": {
    "name": "ipython",
    "version": 2
   },
   "file_extension": ".py",
   "mimetype": "text/x-python",
   "name": "python",
   "nbconvert_exporter": "python",
   "pygments_lexer": "ipython2",
   "version": "2.7.6"
  }
 },
 "nbformat": 4,
 "nbformat_minor": 0
}